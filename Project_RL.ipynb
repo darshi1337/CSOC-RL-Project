{
 "cells": [
  {
   "cell_type": "code",
   "execution_count": 1,
   "id": "b4f52ff5",
   "metadata": {},
   "outputs": [
    {
     "name": "stderr",
     "output_type": "stream",
     "text": [
      "C:\\Users\\DARSHI\\anaconda3\\envs\\machine-learning-env\\lib\\site-packages\\gym\\logger.py:34: UserWarning: \u001b[33mWARN: Box bound precision lowered by casting to float32\u001b[0m\n",
      "  warnings.warn(colorize(\"%s: %s\" % (\"WARN\", msg % args), \"yellow\"))\n"
     ]
    }
   ],
   "source": [
    "import os\n",
    "import cv2\n",
    "import numpy as np\n",
    "import gym\n",
    "import minerl\n",
    "import torch as th\n",
    "import torch.nn as nn\n",
    "from gym import Env\n",
    "from gym.spaces import Discrete, Box, MultiDiscrete\n",
    "from stable_baselines3 import SAC\n",
    "from stable_baselines3.common.callbacks import BaseCallback"
   ]
  },
  {
   "cell_type": "code",
   "execution_count": 2,
   "id": "1d59dd59",
   "metadata": {},
   "outputs": [],
   "source": [
    "class CustomCnnFeatureExtractor(nn.Module):\n",
    "\n",
    "    def __init__(self, observation_space, features_dim=256):\n",
    "        super(CustomCnnFeatureExtractor, self).__init__()\n",
    "        n_input_channels = observation_space.shape[0]\n",
    "        self.cnn = nn.Sequential(\n",
    "            nn.Conv2d(n_input_channels, 16, kernel_size=4, stride=2, padding=1),\n",
    "            nn.ReLU(),\n",
    "            nn.Conv2d(16, 32, kernel_size=3, stride=1, padding=1),\n",
    "            nn.ReLU(),\n",
    "            nn.Flatten(),\n",
    "        )\n",
    "        with th.no_grad():\n",
    "            n_flatten = self.cnn(th.as_tensor(observation_space.sample()[None]).float()).shape[1]\n",
    "        self.linear = nn.Sequential(nn.Linear(n_flatten, features_dim), nn.ReLU())\n",
    "\n",
    "    def forward(self, observations):\n",
    "        return self.linear(self.cnn(observations))"
   ]
  },
  {
   "cell_type": "code",
   "execution_count": 3,
   "id": "6e382ee2",
   "metadata": {},
   "outputs": [],
   "source": [
    "class CustomCnnPolicy(nn.Module):\n",
    "\n",
    "    def __init__(self, observation_space, action_space, net_arch=[64, 64], features_dim=256):\n",
    "        super(CustomCnnPolicy, self).__init__()\n",
    "        self.features_extractor = CustomCnnFeatureExtractor(observation_space, features_dim=features_dim)\n",
    "        self.net_arch = net_arch\n",
    "        action_dim = action_space.shape[0]\n",
    "        self.action_layer = nn.Sequential(nn.Linear(self.net_arch[-1], action_dim))\n",
    "\n",
    "    def forward(self, observations, deterministic=False, use_sde=False):\n",
    "        features = self.features_extractor(observations)\n",
    "        action_logits = self.action_layer(features)\n",
    "        return action_logits"
   ]
  },
  {
   "cell_type": "code",
   "execution_count": 4,
   "id": "9a3da19c",
   "metadata": {},
   "outputs": [],
   "source": [
    "class MinerlTreechopActionSpace(gym.spaces.Box):\n",
    "\n",
    "    def __init__(self):\n",
    "        super().__init__(low=0, high=1, shape=(10,), dtype=np.float32)\n",
    "\n",
    "    def to_dict(self, action):\n",
    "        return {\n",
    "            \"attack\": int(action[0] >= 0.5),\n",
    "            \"back\": int(action[1] >= 0.5),\n",
    "            \"camera\": [360.0 * action[2], 360.0 * action[3]],\n",
    "            \"forward\": int(action[4] >= 0.5),\n",
    "            \"jump\": int(action[5] >= 0.5),\n",
    "            \"left\": int(action[6] >= 0.5),\n",
    "            \"right\": int(action[7] >= 0.5),\n",
    "            \"sneak\": int(action[8] >= 0.5),\n",
    "            \"sprint\": int(action[9] >= 0.5),\n",
    "        }\n",
    "\n",
    "    def from_dict(self, action_dict):\n",
    "        action = np.zeros(10, dtype=np.float32)\n",
    "        action[0] = action_dict[\"attack\"]\n",
    "        action[1] = action_dict[\"back\"]\n",
    "        action[2] = action_dict[\"camera\"][0] / 360.0\n",
    "        action[3] = action_dict[\"camera\"][1] / 360.0\n",
    "        action[4] = action_dict[\"forward\"]\n",
    "        action[5] = action_dict[\"jump\"]\n",
    "        action[6] = action_dict[\"left\"]\n",
    "        action[7] = action_dict[\"right\"]\n",
    "        action[8] = action_dict[\"sneak\"]\n",
    "        action[9] = action_dict[\"sprint\"]\n",
    "        return action"
   ]
  },
  {
   "cell_type": "code",
   "execution_count": 5,
   "id": "da3743f2",
   "metadata": {},
   "outputs": [],
   "source": [
    "class MinerlTreechopEnv(gym.Env):\n",
    "    \n",
    "    def __init__(self, render=False):\n",
    "        super().__init__()\n",
    "        self.env = gym.make('MineRLTreechop-v0')\n",
    "        self.observation_space = Box(low=0, high=255, shape=(64, 64, 3))\n",
    "        self.action_space = MinerlTreechopActionSpace()\n",
    "        self.render_enabled = render\n",
    "\n",
    "    def step(self, action):\n",
    "        camera_action = action[2]\n",
    "        horizontal_degree = camera_action[0] - 89\n",
    "        vertical_degree = camera_action[1] - 90\n",
    "        action_dict = {\n",
    "            \"attack\": action[0],\n",
    "            \"back\": action[1],\n",
    "            \"camera\": [horizontal_degree, vertical_degree],\n",
    "            \"forward\": action[3],\n",
    "            \"jump\": action[4],\n",
    "            \"left\": action[5],\n",
    "            \"right\": action[6],\n",
    "            \"sneak\": action[7],\n",
    "            \"sprint\": action[8]\n",
    "        }\n",
    "        obs, reward, done, info = self.env.step(action_dict)\n",
    "        if done:\n",
    "            obs = self.env.reset()\n",
    "\n",
    "        obs = self.process_observation(obs)\n",
    "        return obs, reward, done, info\n",
    "\n",
    "    def reset(self):\n",
    "        obs = self.env.reset()\n",
    "        obs = self.process_observation(obs)\n",
    "        return obs\n",
    "\n",
    "    def render(self):\n",
    "        if self.render_enabled:\n",
    "            self.env.render()\n",
    "\n",
    "    def close(self):\n",
    "        self.env.close()\n",
    "\n",
    "    def process_observation(self, observation):\n",
    "        pov = observation['pov']\n",
    "        resized_pov = (255 * pov).astype(np.uint8)\n",
    "        resized_pov = cv2.resize(resized_pov, (32, 32), interpolation=cv2.INTER_CUBIC)\n",
    "        return {\"pov\": resized_pov}"
   ]
  },
  {
   "cell_type": "code",
   "execution_count": 6,
   "id": "b92a4b6a",
   "metadata": {},
   "outputs": [],
   "source": [
    "class RandomPolicy:\n",
    "    \n",
    "    def __init__(self, action_space):\n",
    "        self.action_space = action_space\n",
    "\n",
    "    def sample_action(self):\n",
    "        camera_action = np.random.uniform(low=-180, high=180, size=(2,))\n",
    "        action = (\n",
    "            np.random.randint(2),  \n",
    "            np.random.randint(2),  \n",
    "            camera_action,  \n",
    "            np.random.randint(2), \n",
    "            np.random.randint(2), \n",
    "            np.random.randint(2), \n",
    "            np.random.randint(2), \n",
    "            np.random.randint(2), \n",
    "            np.random.randint(2), \n",
    "        )\n",
    "        return action\n",
    "\n",
    "    def predict(self, observation):\n",
    "        action = self.sample_action()\n",
    "        return action"
   ]
  },
  {
   "cell_type": "code",
   "execution_count": 7,
   "id": "a28723ba",
   "metadata": {},
   "outputs": [],
   "source": [
    "env = MinerlTreechopEnv(render=True)\n",
    "policy = RandomPolicy(env.action_space)"
   ]
  },
  {
   "cell_type": "code",
   "execution_count": 8,
   "id": "8fc755c8",
   "metadata": {},
   "outputs": [
    {
     "name": "stderr",
     "output_type": "stream",
     "text": [
      "\r",
      "0it [00:00, ?it/s]"
     ]
    },
    {
     "name": "stdout",
     "output_type": "stream",
     "text": [
      "Total Reward: 0.0\n",
      "Total Reward: 0.0\n",
      "Total Reward: 0.0\n",
      "Total Reward: 0.0\n",
      "Total Reward: 0.0\n"
     ]
    }
   ],
   "source": [
    "for _ in range(5):\n",
    "    obs = env.reset()\n",
    "    done = False\n",
    "    total_reward = 0\n",
    "\n",
    "    while not done:\n",
    "        action = policy.predict(obs)\n",
    "        obs, reward, done, info = env.step(action)\n",
    "        total_reward += reward\n",
    "        env.render()\n",
    "\n",
    "    print('Total Reward:', total_reward)"
   ]
  },
  {
   "cell_type": "code",
   "execution_count": 9,
   "id": "e9bbdaf5",
   "metadata": {},
   "outputs": [],
   "source": [
    "class TrainAndLoggingCallback(BaseCallback):\n",
    "    \n",
    "    def __init__(self, check_freq, save_path, verbose=1):\n",
    "        super().__init__(verbose)\n",
    "        self.check_freq = check_freq\n",
    "        self.save_path = save_path\n",
    "\n",
    "    def _init_callback(self):\n",
    "        os.makedirs(self.save_path, exist_ok=True)\n",
    "\n",
    "    def _on_step(self):\n",
    "        if self.n_calls % self.check_freq == 0:\n",
    "            model_path = os.path.join(self.save_path, f'best_model_{self.n_calls}')\n",
    "            self.model.save(model_path)\n",
    "        return True"
   ]
  },
  {
   "cell_type": "code",
   "execution_count": 10,
   "id": "aefc2b7c",
   "metadata": {},
   "outputs": [
    {
     "name": "stdout",
     "output_type": "stream",
     "text": [
      "Using cpu device\n",
      "Wrapping the env with a `Monitor` wrapper\n",
      "Wrapping the env in a DummyVecEnv.\n"
     ]
    },
    {
     "ename": "TypeError",
     "evalue": "CustomCnnPolicy.forward() got multiple values for argument 'use_sde'",
     "output_type": "error",
     "traceback": [
      "\u001b[1;31m---------------------------------------------------------------------------\u001b[0m",
      "\u001b[1;31mTypeError\u001b[0m                                 Traceback (most recent call last)",
      "Cell \u001b[1;32mIn[10], line 11\u001b[0m\n\u001b[0;32m      7\u001b[0m policy_kwargs \u001b[38;5;241m=\u001b[39m \u001b[38;5;28mdict\u001b[39m(features_dim\u001b[38;5;241m=\u001b[39m\u001b[38;5;241m64\u001b[39m)\n\u001b[0;32m      9\u001b[0m policy \u001b[38;5;241m=\u001b[39m CustomCnnPolicy(env\u001b[38;5;241m.\u001b[39mobservation_space, MinerlTreechopActionSpace(), \u001b[38;5;241m*\u001b[39m\u001b[38;5;241m*\u001b[39mpolicy_kwargs)\n\u001b[1;32m---> 11\u001b[0m model \u001b[38;5;241m=\u001b[39m \u001b[43mSAC\u001b[49m\u001b[43m(\u001b[49m\u001b[43mpolicy\u001b[49m\u001b[43m,\u001b[49m\u001b[43m \u001b[49m\u001b[43menv\u001b[49m\u001b[43m,\u001b[49m\u001b[43m \u001b[49m\u001b[43mlearning_rate\u001b[49m\u001b[38;5;241;43m=\u001b[39;49m\u001b[38;5;241;43m0.0001\u001b[39;49m\u001b[43m,\u001b[49m\u001b[43m \u001b[49m\u001b[43mbatch_size\u001b[49m\u001b[38;5;241;43m=\u001b[39;49m\u001b[38;5;241;43m256\u001b[39;49m\u001b[43m,\u001b[49m\u001b[43m \u001b[49m\u001b[43mbuffer_size\u001b[49m\u001b[38;5;241;43m=\u001b[39;49m\u001b[38;5;241;43m50000\u001b[39;49m\u001b[43m,\u001b[49m\u001b[43m \u001b[49m\u001b[43mverbose\u001b[49m\u001b[38;5;241;43m=\u001b[39;49m\u001b[38;5;241;43m1\u001b[39;49m\u001b[43m,\u001b[49m\u001b[43m \u001b[49m\u001b[43moptimize_memory_usage\u001b[49m\u001b[38;5;241;43m=\u001b[39;49m\u001b[38;5;28;43;01mTrue\u001b[39;49;00m\u001b[43m)\u001b[49m\n\u001b[0;32m     13\u001b[0m device \u001b[38;5;241m=\u001b[39m \u001b[38;5;124m\"\u001b[39m\u001b[38;5;124mcpu\u001b[39m\u001b[38;5;124m\"\u001b[39m\n\u001b[0;32m     14\u001b[0m model \u001b[38;5;241m=\u001b[39m model\u001b[38;5;241m.\u001b[39mto(device)\n",
      "File \u001b[1;32m~\\anaconda3\\envs\\machine-learning-env\\lib\\site-packages\\stable_baselines3\\sac\\sac.py:136\u001b[0m, in \u001b[0;36mSAC.__init__\u001b[1;34m(self, policy, env, learning_rate, buffer_size, learning_starts, batch_size, tau, gamma, train_freq, gradient_steps, action_noise, optimize_memory_usage, ent_coef, target_update_interval, target_entropy, use_sde, sde_sample_freq, use_sde_at_warmup, tensorboard_log, create_eval_env, policy_kwargs, verbose, seed, device, _init_setup_model)\u001b[0m\n\u001b[0;32m    133\u001b[0m \u001b[38;5;28mself\u001b[39m\u001b[38;5;241m.\u001b[39ment_coef_optimizer \u001b[38;5;241m=\u001b[39m \u001b[38;5;28;01mNone\u001b[39;00m\n\u001b[0;32m    135\u001b[0m \u001b[38;5;28;01mif\u001b[39;00m _init_setup_model:\n\u001b[1;32m--> 136\u001b[0m     \u001b[38;5;28;43mself\u001b[39;49m\u001b[38;5;241;43m.\u001b[39;49m\u001b[43m_setup_model\u001b[49m\u001b[43m(\u001b[49m\u001b[43m)\u001b[49m\n",
      "File \u001b[1;32m~\\anaconda3\\envs\\machine-learning-env\\lib\\site-packages\\stable_baselines3\\sac\\sac.py:139\u001b[0m, in \u001b[0;36mSAC._setup_model\u001b[1;34m(self)\u001b[0m\n\u001b[0;32m    138\u001b[0m \u001b[38;5;28;01mdef\u001b[39;00m \u001b[38;5;21m_setup_model\u001b[39m(\u001b[38;5;28mself\u001b[39m) \u001b[38;5;241m-\u001b[39m\u001b[38;5;241m>\u001b[39m \u001b[38;5;28;01mNone\u001b[39;00m:\n\u001b[1;32m--> 139\u001b[0m     \u001b[38;5;28;43msuper\u001b[39;49m\u001b[43m(\u001b[49m\u001b[43mSAC\u001b[49m\u001b[43m,\u001b[49m\u001b[43m \u001b[49m\u001b[38;5;28;43mself\u001b[39;49m\u001b[43m)\u001b[49m\u001b[38;5;241;43m.\u001b[39;49m\u001b[43m_setup_model\u001b[49m\u001b[43m(\u001b[49m\u001b[43m)\u001b[49m\n\u001b[0;32m    140\u001b[0m     \u001b[38;5;28mself\u001b[39m\u001b[38;5;241m.\u001b[39m_create_aliases()\n\u001b[0;32m    141\u001b[0m     \u001b[38;5;66;03m# Target entropy is used when learning the entropy coefficient\u001b[39;00m\n",
      "File \u001b[1;32m~\\anaconda3\\envs\\machine-learning-env\\lib\\site-packages\\stable_baselines3\\common\\off_policy_algorithm.py:162\u001b[0m, in \u001b[0;36mOffPolicyAlgorithm._setup_model\u001b[1;34m(self)\u001b[0m\n\u001b[0;32m    154\u001b[0m \u001b[38;5;28mself\u001b[39m\u001b[38;5;241m.\u001b[39mset_random_seed(\u001b[38;5;28mself\u001b[39m\u001b[38;5;241m.\u001b[39mseed)\n\u001b[0;32m    155\u001b[0m \u001b[38;5;28mself\u001b[39m\u001b[38;5;241m.\u001b[39mreplay_buffer \u001b[38;5;241m=\u001b[39m ReplayBuffer(\n\u001b[0;32m    156\u001b[0m     \u001b[38;5;28mself\u001b[39m\u001b[38;5;241m.\u001b[39mbuffer_size,\n\u001b[0;32m    157\u001b[0m     \u001b[38;5;28mself\u001b[39m\u001b[38;5;241m.\u001b[39mobservation_space,\n\u001b[1;32m   (...)\u001b[0m\n\u001b[0;32m    160\u001b[0m     optimize_memory_usage\u001b[38;5;241m=\u001b[39m\u001b[38;5;28mself\u001b[39m\u001b[38;5;241m.\u001b[39moptimize_memory_usage,\n\u001b[0;32m    161\u001b[0m )\n\u001b[1;32m--> 162\u001b[0m \u001b[38;5;28mself\u001b[39m\u001b[38;5;241m.\u001b[39mpolicy \u001b[38;5;241m=\u001b[39m \u001b[38;5;28mself\u001b[39m\u001b[38;5;241m.\u001b[39mpolicy_class(\n\u001b[0;32m    163\u001b[0m     \u001b[38;5;28mself\u001b[39m\u001b[38;5;241m.\u001b[39mobservation_space,\n\u001b[0;32m    164\u001b[0m     \u001b[38;5;28mself\u001b[39m\u001b[38;5;241m.\u001b[39maction_space,\n\u001b[0;32m    165\u001b[0m     \u001b[38;5;28mself\u001b[39m\u001b[38;5;241m.\u001b[39mlr_schedule,\n\u001b[0;32m    166\u001b[0m     \u001b[38;5;241m*\u001b[39m\u001b[38;5;241m*\u001b[39m\u001b[38;5;28mself\u001b[39m\u001b[38;5;241m.\u001b[39mpolicy_kwargs,  \u001b[38;5;66;03m# pytype:disable=not-instantiable\u001b[39;00m\n\u001b[0;32m    167\u001b[0m )\n\u001b[0;32m    168\u001b[0m \u001b[38;5;28mself\u001b[39m\u001b[38;5;241m.\u001b[39mpolicy \u001b[38;5;241m=\u001b[39m \u001b[38;5;28mself\u001b[39m\u001b[38;5;241m.\u001b[39mpolicy\u001b[38;5;241m.\u001b[39mto(\u001b[38;5;28mself\u001b[39m\u001b[38;5;241m.\u001b[39mdevice)\n",
      "File \u001b[1;32m~\\anaconda3\\envs\\machine-learning-env\\lib\\site-packages\\torch\\nn\\modules\\module.py:1501\u001b[0m, in \u001b[0;36mModule._call_impl\u001b[1;34m(self, *args, **kwargs)\u001b[0m\n\u001b[0;32m   1496\u001b[0m \u001b[38;5;66;03m# If we don't have any hooks, we want to skip the rest of the logic in\u001b[39;00m\n\u001b[0;32m   1497\u001b[0m \u001b[38;5;66;03m# this function, and just call forward.\u001b[39;00m\n\u001b[0;32m   1498\u001b[0m \u001b[38;5;28;01mif\u001b[39;00m \u001b[38;5;129;01mnot\u001b[39;00m (\u001b[38;5;28mself\u001b[39m\u001b[38;5;241m.\u001b[39m_backward_hooks \u001b[38;5;129;01mor\u001b[39;00m \u001b[38;5;28mself\u001b[39m\u001b[38;5;241m.\u001b[39m_backward_pre_hooks \u001b[38;5;129;01mor\u001b[39;00m \u001b[38;5;28mself\u001b[39m\u001b[38;5;241m.\u001b[39m_forward_hooks \u001b[38;5;129;01mor\u001b[39;00m \u001b[38;5;28mself\u001b[39m\u001b[38;5;241m.\u001b[39m_forward_pre_hooks\n\u001b[0;32m   1499\u001b[0m         \u001b[38;5;129;01mor\u001b[39;00m _global_backward_pre_hooks \u001b[38;5;129;01mor\u001b[39;00m _global_backward_hooks\n\u001b[0;32m   1500\u001b[0m         \u001b[38;5;129;01mor\u001b[39;00m _global_forward_hooks \u001b[38;5;129;01mor\u001b[39;00m _global_forward_pre_hooks):\n\u001b[1;32m-> 1501\u001b[0m     \u001b[38;5;28;01mreturn\u001b[39;00m forward_call(\u001b[38;5;241m*\u001b[39margs, \u001b[38;5;241m*\u001b[39m\u001b[38;5;241m*\u001b[39mkwargs)\n\u001b[0;32m   1502\u001b[0m \u001b[38;5;66;03m# Do not call functions when jit is used\u001b[39;00m\n\u001b[0;32m   1503\u001b[0m full_backward_hooks, non_full_backward_hooks \u001b[38;5;241m=\u001b[39m [], []\n",
      "\u001b[1;31mTypeError\u001b[0m: CustomCnnPolicy.forward() got multiple values for argument 'use_sde'"
     ]
    }
   ],
   "source": [
    "if __name__ == \"__main__\":\n",
    "    CHECKPOINT_DIR = './train/train_defend'\n",
    "    LOG_DIR = './logs/log_defend'\n",
    "\n",
    "    os.makedirs(CHECKPOINT_DIR, exist_ok=True)\n",
    "\n",
    "    policy_kwargs = dict(features_dim=64)\n",
    "\n",
    "    policy = CustomCnnPolicy(env.observation_space, MinerlTreechopActionSpace(), **policy_kwargs)\n",
    "\n",
    "    model = SAC(policy, env, learning_rate=0.0001, batch_size=256, buffer_size=50000, verbose=1, optimize_memory_usage=True)\n",
    "\n",
    "    device = \"cpu\"\n",
    "    model = model.to(device)\n",
    "    model.learn(total_timesteps=int(200000))"
   ]
  },
  {
   "cell_type": "code",
   "execution_count": null,
   "id": "375c2c76",
   "metadata": {},
   "outputs": [],
   "source": [
    "for _ in range(5):\n",
    "    obs = env.reset()\n",
    "    done = False\n",
    "    total_reward = 0\n",
    "\n",
    "    while not done:\n",
    "        action = policy.predict(obs)\n",
    "        obs, reward, done, info = env.step(action)\n",
    "        total_reward += reward\n",
    "        env.render()\n",
    "\n",
    "    print('Total Reward:', total_reward)"
   ]
  },
  {
   "cell_type": "code",
   "execution_count": null,
   "id": "a8f3cd31",
   "metadata": {},
   "outputs": [],
   "source": []
  }
 ],
 "metadata": {
  "kernelspec": {
   "display_name": "Python 3 (ipykernel)",
   "language": "python",
   "name": "python3"
  },
  "language_info": {
   "codemirror_mode": {
    "name": "ipython",
    "version": 3
   },
   "file_extension": ".py",
   "mimetype": "text/x-python",
   "name": "python",
   "nbconvert_exporter": "python",
   "pygments_lexer": "ipython3",
   "version": "3.10.11"
  }
 },
 "nbformat": 4,
 "nbformat_minor": 5
}
